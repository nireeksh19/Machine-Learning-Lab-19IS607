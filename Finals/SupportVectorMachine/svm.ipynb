{
 "cells": [
  {
   "cell_type": "code",
   "execution_count": 1,
   "metadata": {},
   "outputs": [
    {
     "name": "stdout",
     "output_type": "stream",
     "text": [
      "[0 1 0 1 1 1 1 1 1 1 1 0 1 1 0 1 0 0 1 0]\n",
      "[-1 1 -1 1 1 1 1 1 1 1 1 -1 1 1 -1 1 -1 -1 1 -1]\n"
     ]
    }
   ],
   "source": [
    "from sklearn.model_selection import train_test_split\n",
    "from sklearn import datasets\n",
    "from sklearn import metrics\n",
    "\n",
    "X, y =datasets.make_blobs(centers=2, random_state=42)\n",
    "X_train, X_test, y_train, y_test = train_test_split(X,y,test_size=0.2)\n",
    "\n",
    "from sklearn.svm import SVC\n",
    "classifier=SVC(kernel='linear')\n",
    "classifier.fit(X_train, y_train)\n",
    "y_pred = classifier.predict(X_test)\n",
    "\n",
    "print(y_test)\n",
    "m=str(y_pred)\n",
    "n=m.replace('0','-1')\n",
    "print(n)"
   ]
  }
 ],
 "metadata": {
  "interpreter": {
   "hash": "af4cafa3bee4a073b17557c28d4f6d6be45f4e04be3ef2970d26ea72d0121ba3"
  },
  "kernelspec": {
   "display_name": "Python 3.9.6 64-bit",
   "language": "python",
   "name": "python3"
  },
  "language_info": {
   "codemirror_mode": {
    "name": "ipython",
    "version": 3
   },
   "file_extension": ".py",
   "mimetype": "text/x-python",
   "name": "python",
   "nbconvert_exporter": "python",
   "pygments_lexer": "ipython3",
   "version": "3.9.6"
  },
  "orig_nbformat": 4
 },
 "nbformat": 4,
 "nbformat_minor": 2
}
