{
 "cells": [
  {
   "cell_type": "code",
   "execution_count": 29,
   "metadata": {},
   "outputs": [
    {
     "name": "stdout",
     "output_type": "stream",
     "text": [
      "Index(['Temperature', 'Humidity', 'Wind', 'PlayTennis'], dtype='object')\n",
      "[[1 0 1]\n",
      " [1 0 0]\n",
      " [1 0 1]\n",
      " [2 0 1]\n",
      " [0 1 1]\n",
      " [0 1 0]\n",
      " [0 1 0]\n",
      " [2 0 1]\n",
      " [0 1 1]\n",
      " [2 1 1]\n",
      " [2 1 0]\n",
      " [2 0 0]\n",
      " [1 1 1]\n",
      " [2 0 0]]\n",
      "[0 0 1 1 1 0 1 0 1 1 1 1 1 0]\n",
      "Actual value : [0 0 1]\n",
      "Predicted value : [1 1 1]\n",
      "Accuracy:  0.3333333333333333\n",
      "Input given: ['Hot' 'High' 'Weak']\n",
      "Predicted output : [1]\n"
     ]
    }
   ],
   "source": [
    "import pandas as pd\n",
    "import numpy as np\n",
    "from sklearn.model_selection import train_test_split\n",
    "from sklearn.preprocessing import LabelEncoder\n",
    "from sklearn.tree import DecisionTreeClassifier\n",
    "from sklearn import metrics\n",
    "\n",
    "dataset = pd.read_csv(\"playTennis.csv\")\n",
    "# print(data)\n",
    "feature_cols = dataset.columns[1:5]\n",
    "print(feature_cols)\n",
    "\n",
    "for label in feature_cols:\n",
    "    dataset[label]=LabelEncoder().fit_transform(dataset[label])\n",
    "\n",
    "data = dataset.drop(['PlayTennis'],axis=1)\n",
    "data = np.array(data.drop(['Day'],axis=1))\n",
    "target = np.array(dataset['PlayTennis'])\n",
    "print(data)\n",
    "print(target)\n",
    "\n",
    "X_train , X_test, y_train, y_test = train_test_split(data,target,test_size=0.2,random_state=40)\n",
    "\n",
    "id3 = DecisionTreeClassifier(criterion='entropy')\n",
    "id3.fit(X_train,y_train)\n",
    "y_pred = id3.predict(X_test)\n",
    "print(\"Actual value :\",y_test)\n",
    "print(\"Predicted value :\",y_pred)\n",
    "print(\"Accuracy: \",metrics.accuracy_score(y_test,y_pred))\n",
    "\n",
    "new_example = np.array(['Hot','High','Weak'])\n",
    "encoded = LabelEncoder().fit_transform(new_example)\n",
    "test = encoded.reshape(1,-1)\n",
    "test_predict = id3.predict(test)\n",
    "print(\"Input given:\",new_example)\n",
    "print(\"Predicted output :\",test_predict)"
   ]
  }
 ],
 "metadata": {
  "language_info": {
   "name": "python"
  },
  "orig_nbformat": 4
 },
 "nbformat": 4,
 "nbformat_minor": 2
}
