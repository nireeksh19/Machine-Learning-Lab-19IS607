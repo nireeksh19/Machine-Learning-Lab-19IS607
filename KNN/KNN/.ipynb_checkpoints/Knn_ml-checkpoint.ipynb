{
 "cells": [
  {
   "cell_type": "code",
   "execution_count": 10,
   "id": "59fe065f",
   "metadata": {},
   "outputs": [],
   "source": [
    "import numpy as np\n",
    "from collections import Counter"
   ]
  },
  {
   "cell_type": "code",
   "execution_count": 11,
   "id": "64f9d0ad",
   "metadata": {},
   "outputs": [],
   "source": [
    "#Euclidian Distance\n",
    "def euclidean_distance(x1,x2):\n",
    "    return np.sqrt(np.sum((x1-x2)**2))\n",
    "\n",
    "class k_nearest_neighbors:\n",
    "    def __init__(self,k):\n",
    "        self.k = k\n",
    "        \n",
    "    def knn_fit(self, X_train, y_train):\n",
    "        self.X_train = X_train\n",
    "        self.y_train = y_train\n",
    "        \n",
    "    def knn_predict(self, X):\n",
    "        predicted_label=[self._predict(x) for x in X]\n",
    "        \n",
    "        return np.array(predicted_label)\n",
    "    def _predict(self, x):\n",
    "        distances = [euclidean_distance(x, x_train) for x_train in self.X_train]\n",
    "        k_indices = np.argsort(distances)[:self.k]\n",
    "        print(\"Indices: \", k_indices)\n",
    "        k_nearest_lables =[self.y_train[i] for i in k_indices]\n",
    "        print(\"Nearest Labels: \",k_nearest_lables)\n",
    "        majority_vote = Counter(k_nearest_lables).most_common(1)\n",
    "        print(\"Majoirt_votes\",majority_vote,majority_vote[0][0])\n",
    "        return majority_vote[0][0]\n",
    "        "
   ]
  },
  {
   "cell_type": "code",
   "execution_count": 14,
   "id": "917b7564",
   "metadata": {},
   "outputs": [
    {
     "name": "stdout",
     "output_type": "stream",
     "text": [
      "training instances:  120\n",
      "Test instances:  30\n",
      "Indices:  [46 86 92]\n",
      "Nearest Labels:  [0, 0, 0]\n",
      "Majoirt_votes [(0, 3)] 0\n",
      "Indices:  [42 82 61]\n",
      "Nearest Labels:  [0, 0, 0]\n",
      "Majoirt_votes [(0, 3)] 0\n",
      "Indices:  [ 32  15 112]\n",
      "Nearest Labels:  [1, 1, 1]\n",
      "Majoirt_votes [(1, 3)] 1\n",
      "Indices:  [ 61  60 105]\n",
      "Nearest Labels:  [0, 0, 0]\n",
      "Majoirt_votes [(0, 3)] 0\n",
      "Indices:  [ 58  89 115]\n",
      "Nearest Labels:  [1, 1, 1]\n",
      "Majoirt_votes [(1, 3)] 1\n",
      "Indices:  [18 62 12]\n",
      "Nearest Labels:  [2, 2, 2]\n",
      "Majoirt_votes [(2, 3)] 2\n",
      "Indices:  [61 19 60]\n",
      "Nearest Labels:  [0, 0, 0]\n",
      "Majoirt_votes [(0, 3)] 0\n",
      "Indices:  [ 5 44 69]\n",
      "Nearest Labels:  [2, 2, 2]\n",
      "Majoirt_votes [(2, 3)] 2\n",
      "Indices:  [93 55 67]\n",
      "Nearest Labels:  [1, 1, 1]\n",
      "Majoirt_votes [(1, 3)] 1\n",
      "Indices:  [42 82 94]\n",
      "Nearest Labels:  [0, 0, 0]\n",
      "Majoirt_votes [(0, 3)] 0\n",
      "Indices:  [52 87 31]\n",
      "Nearest Labels:  [1, 1, 1]\n",
      "Majoirt_votes [(1, 3)] 1\n",
      "Indices:  [ 67  65 112]\n",
      "Nearest Labels:  [1, 1, 1]\n",
      "Majoirt_votes [(1, 3)] 1\n",
      "Indices:  [78 96 91]\n",
      "Nearest Labels:  [0, 0, 0]\n",
      "Majoirt_votes [(0, 3)] 0\n",
      "Indices:  [25 88 66]\n",
      "Nearest Labels:  [1, 1, 2]\n",
      "Majoirt_votes [(1, 2)] 1\n",
      "Indices:  [ 0 69  5]\n",
      "Nearest Labels:  [2, 2, 2]\n",
      "Majoirt_votes [(2, 3)] 2\n",
      "Indices:  [108  30   9]\n",
      "Nearest Labels:  [0, 0, 0]\n",
      "Majoirt_votes [(0, 3)] 0\n",
      "Indices:  [101 117  60]\n",
      "Nearest Labels:  [0, 0, 0]\n",
      "Majoirt_votes [(0, 3)] 0\n",
      "Indices:  [20 84 26]\n",
      "Nearest Labels:  [2, 2, 2]\n",
      "Majoirt_votes [(2, 3)] 2\n",
      "Indices:  [39 22 51]\n",
      "Nearest Labels:  [2, 2, 2]\n",
      "Majoirt_votes [(2, 3)] 2\n",
      "Indices:  [42 14 82]\n",
      "Nearest Labels:  [0, 0, 0]\n",
      "Majoirt_votes [(0, 3)] 0\n",
      "Indices:  [ 83 112  65]\n",
      "Nearest Labels:  [1, 1, 1]\n",
      "Majoirt_votes [(1, 3)] 1\n",
      "Indices:  [97 75 47]\n",
      "Nearest Labels:  [0, 0, 0]\n",
      "Majoirt_votes [(0, 3)] 0\n",
      "Indices:  [  8  77 116]\n",
      "Nearest Labels:  [1, 1, 1]\n",
      "Majoirt_votes [(1, 3)] 1\n",
      "Indices:  [14 82 72]\n",
      "Nearest Labels:  [0, 0, 0]\n",
      "Majoirt_votes [(0, 3)] 0\n",
      "Indices:  [ 56 110  59]\n",
      "Nearest Labels:  [2, 2, 2]\n",
      "Majoirt_votes [(2, 3)] 2\n",
      "Indices:  [ 21 119  46]\n",
      "Nearest Labels:  [0, 0, 0]\n",
      "Majoirt_votes [(0, 3)] 0\n",
      "Indices:  [97 37 75]\n",
      "Nearest Labels:  [0, 0, 0]\n",
      "Majoirt_votes [(0, 3)] 0\n",
      "Indices:  [ 31  39 100]\n",
      "Nearest Labels:  [1, 2, 1]\n",
      "Majoirt_votes [(1, 2)] 1\n",
      "Indices:  [54 44 27]\n",
      "Nearest Labels:  [2, 2, 2]\n",
      "Majoirt_votes [(2, 3)] 2\n",
      "Indices:  [ 85  31 100]\n",
      "Nearest Labels:  [1, 1, 1]\n",
      "Majoirt_votes [(1, 3)] 1\n",
      "Confusion Matrix\n",
      "[[13  0  0]\n",
      " [ 0  9  0]\n",
      " [ 0  1  7]]\n",
      "Classification report:  {'0': {'precision': 1.0, 'recall': 1.0, 'f1-score': 1.0, 'support': 13}, '1': {'precision': 0.9, 'recall': 1.0, 'f1-score': 0.9473684210526316, 'support': 9}, '2': {'precision': 1.0, 'recall': 0.875, 'f1-score': 0.9333333333333333, 'support': 8}, 'accuracy': 0.9666666666666667, 'macro avg': {'precision': 0.9666666666666667, 'recall': 0.9583333333333334, 'f1-score': 0.960233918128655, 'support': 30}, 'weighted avg': {'precision': 0.9700000000000001, 'recall': 0.9666666666666667, 'f1-score': 0.9664327485380118, 'support': 30}}\n"
     ]
    }
   ],
   "source": [
    "from sklearn import datasets \n",
    "from sklearn.model_selection import train_test_split\n",
    "from sklearn.metrics import classification_report,confusion_matrix\n",
    "import numpy as np\n",
    "import matplotlib.pyplot as plt\n",
    "\n",
    "iris_data = datasets.load_iris()\n",
    "data = iris_data.data\n",
    "target = iris_data.target\n",
    "\n",
    "#train / test split data\n",
    "X_train,X_test,y_train,y_test = train_test_split(data, target, test_size=0.2)\n",
    "print(\"training instances: \",len(X_train))\n",
    "print(\"Test instances: \",len(X_test))\n",
    "\n",
    "#Train KNN model\n",
    "my_model = k_nearest_neighbors(k = 3)\n",
    "model = my_model.knn_fit(X_train,y_train)\n",
    "\n",
    "predictions = my_model.knn_predict(X_test)\n",
    "\n",
    "#Evalution report\n",
    "print(\"Confusion Matrix\")\n",
    "print(confusion_matrix(y_test,predictions))\n",
    "print(\"Classification report: \",classification_report(y_test, predictions,output_dict=True))\n",
    "    "
   ]
  },
  {
   "cell_type": "code",
   "execution_count": 22,
   "id": "b2b4e560",
   "metadata": {},
   "outputs": [
    {
     "data": {
      "image/png": "[encoded data removed]",
      "text/plain": [
       "<Figure size 432x288 with 1 Axes>"
      ]
     },
     "metadata": {
      "needs_background": "light"
     },
     "output_type": "display_data"
    },
    {
     "data": {
      "image/png": "[encoded data removed]",
      "text/plain": [
       "<Figure size 432x288 with 1 Axes>"
      ]
     },
     "metadata": {
      "needs_background": "light"
     },
     "output_type": "display_data"
    },
    {
     "data": {
      "image/png": "[encoded data removed]",
      "text/plain": [
       "<Figure size 432x288 with 1 Axes>"
      ]
     },
     "metadata": {
      "needs_background": "light"
     },
     "output_type": "display_data"
    },
    {
     "data": {
      "image/png": "[encoded data removed]",
      "text/plain": [
       "<Figure size 432x288 with 1 Axes>"
      ]
     },
     "metadata": {
      "needs_background": "light"
     },
     "output_type": "display_data"
    },
    {
     "data": {
      "image/png": "[encoded data removed]",
      "text/plain": [
       "<Figure size 432x288 with 1 Axes>"
      ]
     },
     "metadata": {
      "needs_background": "light"
     },
     "output_type": "display_data"
    },
    {
     "data": {
      "image/png": "[encoded data removed]",
      "text/plain": [
       "<Figure size 432x288 with 1 Axes>"
      ]
     },
     "metadata": {
      "needs_background": "light"
     },
     "output_type": "display_data"
    }
   ],
   "source": [
    "#Visualize the predictions\n",
    "for class_value in range(3):\n",
    "    row_ix = np.where(predictions == class_value)\n",
    "    \n",
    "    row_px = np.where(y_test == class_value)\n",
    "    if(class_value==0):\n",
    "        n='*'\n",
    "        c='red'\n",
    "    elif(class_value==1):\n",
    "        n='o'\n",
    "        c='green'\n",
    "    elif(class_value==2):\n",
    "        n='x'\n",
    "        c='yellow'\n",
    "        \n",
    "    plot1 = plt.figure(1)\n",
    "    plt.plot(X_test[row_ix, 1],X_test[row_ix,0],marker=n,color=c)\n",
    "    \n",
    "    if(class_value==0):\n",
    "        n='*'\n",
    "        color='violet'\n",
    "    elif(class_value==1):\n",
    "        n='o'\n",
    "        c='black'\n",
    "    elif(class_value==2):\n",
    "        n='x'\n",
    "        c='cyan'\n",
    "        \n",
    "    plot2=plt.figure(2)\n",
    "    plt.plot(X_test[row_px, 1],X_test[row_px,0],marker=n,color=c)\n",
    "    plt.show()\n",
    "        "
   ]
  },
  {
   "cell_type": "code",
   "execution_count": null,
   "id": "d8f344dd",
   "metadata": {},
   "outputs": [],
   "source": []
  }
 ],
 "metadata": {
  "kernelspec": {
   "display_name": "Python 3 (ipykernel)",
   "language": "python",
   "name": "python3"
  },
  "language_info": {
   "codemirror_mode": {
    "name": "ipython",
    "version": 3
   },
   "file_extension": ".py",
   "mimetype": "text/x-python",
   "name": "python",
   "nbconvert_exporter": "python",
   "pygments_lexer": "ipython3",
   "version": "3.8.5"
  }
 },
 "nbformat": 4,
 "nbformat_minor": 5
}
