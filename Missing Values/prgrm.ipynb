{
 "cells": [
  {
   "cell_type": "code",
   "execution_count": 32,
   "metadata": {},
   "outputs": [],
   "source": [
    "# importing numpy and pandas\n",
    "import numpy as np\n",
    "import pandas as pd"
   ]
  },
  {
   "cell_type": "code",
   "execution_count": 33,
   "metadata": {},
   "outputs": [
    {
     "name": "stdout",
     "output_type": "stream",
     "text": [
      "  Gender  Age Married Purch\n",
      "0      M   14     Yes  Rent\n",
      "1      F    8      No   Buy\n",
      "2      M   15     Yes  Rent\n",
      "3      F   20      No   Buy\n",
      "<class 'pandas.core.frame.DataFrame'>\n",
      "RangeIndex: 4 entries, 0 to 3\n",
      "Data columns (total 4 columns):\n",
      " #   Column   Non-Null Count  Dtype \n",
      "---  ------   --------------  ----- \n",
      " 0   Gender   4 non-null      object\n",
      " 1   Age      4 non-null      int64 \n",
      " 2   Married  4 non-null      object\n",
      " 3   Purch    4 non-null      object\n",
      "dtypes: int64(1), object(3)\n",
      "memory usage: 256.0+ bytes\n",
      "   Gender    Age  Married  Purch\n",
      "0   False  False    False  False\n",
      "1   False  False    False  False\n",
      "2   False  False    False  False\n",
      "3   False  False    False  False\n",
      "Gender     0\n",
      "Age        0\n",
      "Married    0\n",
      "Purch      0\n",
      "dtype: int64\n",
      "  Gender  Age Married Purch\n",
      "0      M   14     Yes  Rent\n",
      "1      F    8      No   Buy\n",
      "2      M   15     Yes  Rent\n",
      "3      F   20      No   Buy\n"
     ]
    }
   ],
   "source": [
    "# Readiing csv datasets\n",
    "house_df=pd.read_csv(\"house.csv\")\n",
    "print(house_df)\n",
    "house_df.info()\n",
    "\n",
    "# identifying missing values\n",
    "print(house_df.isnull())\n",
    "#total count of missing values\n",
    "print(house_df.isnull().sum())\n",
    "\n",
    "#replacing null values with mean\n",
    "house_df['Age'].replace(np.NAN,house_df['Age'].mean(), inplace=True)\n",
    "print(house_df)"
   ]
  },
  {
   "cell_type": "code",
   "execution_count": 37,
   "metadata": {},
   "outputs": [
    {
     "name": "stdout",
     "output_type": "stream",
     "text": [
      "0    Rent\n",
      "1     Buy\n",
      "2    Rent\n",
      "3     Buy\n",
      "Name: Purch, dtype: object\n",
      "   Gender  Age  Married  Name\n",
      "0       1   14        1     1\n",
      "1       0    8        0     0\n",
      "2       1   15        1     1\n",
      "3       0   20        0     0\n"
     ]
    }
   ],
   "source": [
    "# Encoding categorical values\n",
    "import sklearn as sp\n",
    "from sklearn.preprocessing import LabelEncoder\n",
    "le = LabelEncoder()\n",
    "# yes or no will convert to 1 or 0\n",
    "# apply to single column\n",
    "house_df['Married']=le.fit_transform(house_df['Married'])\n",
    "house_df['Gender']=le.fit_transform(house_df['Gender'])\n",
    "\n",
    "# apply to all columns\n",
    "# house_df=house_df.apply(le.fit_transform)\n",
    "\n",
    "# dropping the target column\n",
    "data = house_df.drop(['Purch'],axis=1)  #taken purch as short form for purchase type\n",
    "target = house_df['Purch']\n",
    "print(target)\n",
    "print(data)"
   ]
  },
  {
   "cell_type": "code",
   "execution_count": 38,
   "metadata": {},
   "outputs": [
    {
     "name": "stdout",
     "output_type": "stream",
     "text": [
      "[[ 1.         -0.05862104  1.          1.        ]\n",
      " [-1.         -1.46552595 -1.         -1.        ]\n",
      " [ 1.          0.17586311  1.          1.        ]\n",
      " [-1.          1.34828388 -1.         -1.        ]]\n"
     ]
    }
   ],
   "source": [
    "# feature scaling\n",
    "from sklearn.preprocessing import StandardScaler\n",
    "# initialize the scaler\n",
    "scaler = StandardScaler()\n",
    "\n",
    "Normalized_Data = scaler.fit_transform(data)\n",
    "print(Normalized_Data)"
   ]
  }
 ],
 "metadata": {
  "interpreter": {
   "hash": "af4cafa3bee4a073b17557c28d4f6d6be45f4e04be3ef2970d26ea72d0121ba3"
  },
  "kernelspec": {
   "display_name": "Python 3.9.6 64-bit",
   "language": "python",
   "name": "python3"
  },
  "language_info": {
   "codemirror_mode": {
    "name": "ipython",
    "version": 3
   },
   "file_extension": ".py",
   "mimetype": "text/x-python",
   "name": "python",
   "nbconvert_exporter": "python",
   "pygments_lexer": "ipython3",
   "version": "3.9.6"
  },
  "orig_nbformat": 4
 },
 "nbformat": 4,
 "nbformat_minor": 2
}
