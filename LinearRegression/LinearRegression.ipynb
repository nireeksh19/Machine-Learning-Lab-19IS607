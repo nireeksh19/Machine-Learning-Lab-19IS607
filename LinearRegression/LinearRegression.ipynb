{
 "cells": [
  {
   "cell_type": "code",
   "execution_count": 1,
   "id": "86b914b7",
   "metadata": {},
   "outputs": [],
   "source": [
    "import numpy as np\n",
    "\n",
    "class linear_reg:\n",
    "    def __init__(self,learning_rate=0.01, n_iters = 100):\n",
    "        self.lr =learning_rate\n",
    "        self.n_iters = n_iters\n",
    "        self.weights = None\n",
    "        self.bias = None\n",
    "        \n",
    "    def fit(self,X,y):\n",
    "        n_samples, n_features =X.shape\n",
    "        \n",
    "        #init parameters\n",
    "        self.weights = np.zeros(n_features)\n",
    "        self.bias = 0\n",
    "        \n",
    "        #gradient descent \n",
    "        for _ in range(self.n_iters):\n",
    "            y_predicted = np.dot(X, self.weights)+ self.bias\n",
    "            #compute gradients\n",
    "            dw=(1/n_samples)*np.dot(X.T, (y_predicted - y))\n",
    "            db = (1/n_samples) * np.sum(y_predicted - y)\n",
    "            \n",
    "            #update parameters\n",
    "            self.weights-=self.lr * dw\n",
    "            self.bias -= self.lr * db\n",
    "        return y_predicted\n",
    "    \n",
    "    def predict(self, X):\n",
    "        y_approximated = np.dot(X, self.weights) + self.bias\n",
    "        return y_approximated\n",
    "    \n"
   ]
  },
  {
   "cell_type": "code",
   "execution_count": 2,
   "id": "08c4ec32",
   "metadata": {},
   "outputs": [
    {
     "data": {
      "text/plain": [
       "[<matplotlib.lines.Line2D at 0x24bc29c5e80>]"
      ]
     },
     "execution_count": 2,
     "metadata": {},
     "output_type": "execute_result"
    },
    {
     "data": {
      "image/png": "[encoded data removed]",
      "text/plain": [
       "<Figure size 432x288 with 1 Axes>"
      ]
     },
     "metadata": {
      "needs_background": "light"
     },
     "output_type": "display_data"
    }
   ],
   "source": [
    "from matplotlib import pyplot as plt\n",
    "import pandas as pd\n",
    "#from LinearReg import linear_reg\n",
    "from sklearn.model_selection import train_test_split\n",
    "\n",
    "#Load Dataset\n",
    "data = pd.read_csv(\"GOOG.csv\",delimiter=',',quotechar='\"')\n",
    "\n",
    "#separating data\n",
    "X=data.iloc[:,1:4]\n",
    "y=data.iloc[:,-3]\n",
    "\n",
    "\n",
    "\n",
    "from sklearn.preprocessing import StandardScaler\n",
    "sc=  StandardScaler()\n",
    "X=sc.fit_transform(X)\n",
    "X_train, X_test, y_train, y_test = train_test_split(X, y, test_size=0.25)\n",
    "\n",
    "#print(X_test)\n",
    "model=linear_reg()\n",
    "model.fit(X_train, y_train)\n",
    "y_pred = model.predict(X_test)\n",
    "\n",
    "z=X_test.T\n",
    "\n",
    "#plt.plot(X_train, model.weighted*X_train+model.bias,color='g')\n",
    "\n",
    "#Predicted values in red\n",
    "plt.plot(z[2],y_pred, 'o',color='r')\n",
    "\n",
    "plt.plot(z[2],y_test,'o',color='b')"
   ]
  },
  {
   "cell_type": "code",
   "execution_count": null,
   "id": "133a2aaa",
   "metadata": {},
   "outputs": [],
   "source": []
  }
 ],
 "metadata": {
  "interpreter": {
   "hash": "af4cafa3bee4a073b17557c28d4f6d6be45f4e04be3ef2970d26ea72d0121ba3"
  },
  "kernelspec": {
   "display_name": "Python 3.9.6 64-bit",
   "language": "python",
   "name": "python3"
  },
  "language_info": {
   "codemirror_mode": {
    "name": "ipython",
    "version": 3
   },
   "file_extension": ".py",
   "mimetype": "text/x-python",
   "name": "python",
   "nbconvert_exporter": "python",
   "pygments_lexer": "ipython3",
   "version": "3.9.6"
  }
 },
 "nbformat": 4,
 "nbformat_minor": 5
}
